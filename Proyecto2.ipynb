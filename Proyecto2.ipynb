{
 "cells": [
  {
   "cell_type": "markdown",
   "metadata": {},
   "source": [
    "# Universidad del Valle de Guatemala\n",
    "## Facultad de Ingeniería\n",
    "### Departamento de Computación\n",
    "\n",
    "---\n",
    "\n",
    "# Proyecto 2: Análisis Exploratorio\n",
    "## Proyecto 2. Reto 04: Predicción de compradores recurrentes: cuestionar la línea base - Negocios\n",
    "\n",
    "**Integrantes:**\n",
    "- Diego Alexander Hernández Silvestre, 21270\n",
    "- Linda Inés Jiménez Vides, 21169\n",
    "- Mario Antonio Guerra Morales, 21008\n",
    "- David Jonathan Aragon Vasquez, 21053\n",
    "\n",
    "**Curso:** Data Science  \n",
    "**Sección:** 10  \n",
    "**Grupo** 4  \n",
    "\n",
    "---\n",
    "\n",
    "Guatemala, 30 de septiembre de 2024\n"
   ]
  },
  {
   "cell_type": "markdown",
   "metadata": {},
   "source": [
    "##### 🫳 Para la descarga del dataset de este reto, es necesario la creación de una cuenta dentro de Alibaba Cloud. Para facilitar este proceso se proporcionan los elementos a descargar en estos enlaces:\n",
    "- Data_Format1: https://drive.google.com/file/d/1jgsaSM0wypPMUWaNlXy5s_kO0uiXNzES/view?usp=sharing\n",
    "- Data_Format2: https://drive.google.com/file/d/1dnMeaon-ovASN2HEI1WSNfnw-7lyINAh/view?usp=drivesdk\n",
    "- sample_submission.csv: "
   ]
  },
  {
   "cell_type": "code",
   "execution_count": 39,
   "metadata": {},
   "outputs": [],
   "source": [
    "import os\n",
    "import zipfile\n",
    "import pandas as pd\n",
    "import matplotlib.pyplot as plt\n",
    "import seaborn as sns"
   ]
  },
  {
   "cell_type": "markdown",
   "metadata": {},
   "source": [
    "### 📩 Inciso 1. Descomprimir los datasets."
   ]
  },
  {
   "cell_type": "code",
   "execution_count": 5,
   "metadata": {},
   "outputs": [
    {
     "name": "stdout",
     "output_type": "stream",
     "text": [
      "Archivo descomprimido en data/data_format1\n",
      "Archivo descomprimido en data/data_format2\n"
     ]
    }
   ],
   "source": [
    "def unzipFile(zip_path):\n",
    "    # Extraer en una carpeta con el mismo nombre que el archivo ZIP (sin extensión)\n",
    "    extract_to = os.path.splitext(zip_path)[0]\n",
    "    \n",
    "    # Verificar si la carpeta ya existe\n",
    "    if os.path.exists(extract_to):\n",
    "        print(f\"La carpeta {extract_to} ya existe. No se descomprimirá el archivo.\")\n",
    "        return\n",
    "    \n",
    "    # Descomprimir el archivo\n",
    "    with zipfile.ZipFile(zip_path, 'r') as zip_ref:\n",
    "        zip_ref.extractall(extract_to)\n",
    "    \n",
    "    print(f\"Archivo descomprimido en {extract_to}\")\n",
    "\n",
    "# Ejemplo de uso\n",
    "unzipFile('data/data_format1.zip')\n",
    "unzipFile('data/data_format2.zip')"
   ]
  },
  {
   "cell_type": "markdown",
   "metadata": {},
   "source": [
    "El reto cuenta con dos formatos de datasets, el formato 1 según sus propias instrucciones es más amigable para la ingeniería de características pero la información se encuentra en varios archivos. En cambio, el formato 2 es el que proporcionan como el dataset de entrenamiento y pruebas por defecto. Para el análisis inicial se utilizará el formato 2. "
   ]
  },
  {
   "cell_type": "markdown",
   "metadata": {},
   "source": [
    "### 📩 Inciso 2. Carga de los datos"
   ]
  },
  {
   "cell_type": "code",
   "execution_count": 40,
   "metadata": {},
   "outputs": [],
   "source": [
    "dataTest = pd.read_csv('data/data_format1/data_format1/train_format1.csv')\n",
    "dataTrain = pd.read_csv('data/data_format2/data_format2/train_format2.csv')"
   ]
  },
  {
   "cell_type": "markdown",
   "metadata": {},
   "source": [
    "### 🧹 Inciso 3. Preprocesamiento y limpieza de datos"
   ]
  },
  {
   "cell_type": "code",
   "execution_count": 41,
   "metadata": {},
   "outputs": [
    {
     "data": {
      "text/html": [
       "<div>\n",
       "<style scoped>\n",
       "    .dataframe tbody tr th:only-of-type {\n",
       "        vertical-align: middle;\n",
       "    }\n",
       "\n",
       "    .dataframe tbody tr th {\n",
       "        vertical-align: top;\n",
       "    }\n",
       "\n",
       "    .dataframe thead th {\n",
       "        text-align: right;\n",
       "    }\n",
       "</style>\n",
       "<table border=\"1\" class=\"dataframe\">\n",
       "  <thead>\n",
       "    <tr style=\"text-align: right;\">\n",
       "      <th></th>\n",
       "      <th>user_id</th>\n",
       "      <th>age_range</th>\n",
       "      <th>gender</th>\n",
       "      <th>merchant_id</th>\n",
       "      <th>label</th>\n",
       "      <th>activity_log</th>\n",
       "    </tr>\n",
       "  </thead>\n",
       "  <tbody>\n",
       "    <tr>\n",
       "      <th>0</th>\n",
       "      <td>34176</td>\n",
       "      <td>6.0</td>\n",
       "      <td>0.0</td>\n",
       "      <td>944</td>\n",
       "      <td>-1</td>\n",
       "      <td>408895:1505:7370:1107:0</td>\n",
       "    </tr>\n",
       "    <tr>\n",
       "      <th>1</th>\n",
       "      <td>34176</td>\n",
       "      <td>6.0</td>\n",
       "      <td>0.0</td>\n",
       "      <td>412</td>\n",
       "      <td>-1</td>\n",
       "      <td>17235:1604:4396:0818:0#954723:1604:4396:0818:0...</td>\n",
       "    </tr>\n",
       "    <tr>\n",
       "      <th>2</th>\n",
       "      <td>34176</td>\n",
       "      <td>6.0</td>\n",
       "      <td>0.0</td>\n",
       "      <td>1945</td>\n",
       "      <td>-1</td>\n",
       "      <td>231901:662:2758:0818:0#231901:662:2758:0818:0#...</td>\n",
       "    </tr>\n",
       "    <tr>\n",
       "      <th>3</th>\n",
       "      <td>34176</td>\n",
       "      <td>6.0</td>\n",
       "      <td>0.0</td>\n",
       "      <td>4752</td>\n",
       "      <td>-1</td>\n",
       "      <td>174142:821:6938:1027:0</td>\n",
       "    </tr>\n",
       "    <tr>\n",
       "      <th>4</th>\n",
       "      <td>34176</td>\n",
       "      <td>6.0</td>\n",
       "      <td>0.0</td>\n",
       "      <td>643</td>\n",
       "      <td>-1</td>\n",
       "      <td>716371:1505:968:1024:3</td>\n",
       "    </tr>\n",
       "  </tbody>\n",
       "</table>\n",
       "</div>"
      ],
      "text/plain": [
       "   user_id  age_range  gender  merchant_id  label  \\\n",
       "0    34176        6.0     0.0          944     -1   \n",
       "1    34176        6.0     0.0          412     -1   \n",
       "2    34176        6.0     0.0         1945     -1   \n",
       "3    34176        6.0     0.0         4752     -1   \n",
       "4    34176        6.0     0.0          643     -1   \n",
       "\n",
       "                                        activity_log  \n",
       "0                            408895:1505:7370:1107:0  \n",
       "1  17235:1604:4396:0818:0#954723:1604:4396:0818:0...  \n",
       "2  231901:662:2758:0818:0#231901:662:2758:0818:0#...  \n",
       "3                             174142:821:6938:1027:0  \n",
       "4                             716371:1505:968:1024:3  "
      ]
     },
     "execution_count": 41,
     "metadata": {},
     "output_type": "execute_result"
    }
   ],
   "source": [
    "dataTrain.head()"
   ]
  },
  {
   "cell_type": "code",
   "execution_count": 42,
   "metadata": {},
   "outputs": [
    {
     "name": "stdout",
     "output_type": "stream",
     "text": [
      "<class 'pandas.core.frame.DataFrame'>\n",
      "RangeIndex: 7030723 entries, 0 to 7030722\n",
      "Data columns (total 6 columns):\n",
      " #   Column        Dtype  \n",
      "---  ------        -----  \n",
      " 0   user_id       int64  \n",
      " 1   age_range     float64\n",
      " 2   gender        float64\n",
      " 3   merchant_id   int64  \n",
      " 4   label         int64  \n",
      " 5   activity_log  object \n",
      "dtypes: float64(2), int64(3), object(1)\n",
      "memory usage: 321.8+ MB\n"
     ]
    },
    {
     "data": {
      "text/plain": [
       "user_id         7030723\n",
       "age_range       7011343\n",
       "gender          6969011\n",
       "merchant_id     7030723\n",
       "label           7030723\n",
       "activity_log    7027748\n",
       "dtype: int64"
      ]
     },
     "execution_count": 42,
     "metadata": {},
     "output_type": "execute_result"
    }
   ],
   "source": [
    "dataTrain.info()\n",
    "dataTrain.count()"
   ]
  },
  {
   "cell_type": "code",
   "execution_count": 43,
   "metadata": {},
   "outputs": [
    {
     "data": {
      "text/html": [
       "<div>\n",
       "<style scoped>\n",
       "    .dataframe tbody tr th:only-of-type {\n",
       "        vertical-align: middle;\n",
       "    }\n",
       "\n",
       "    .dataframe tbody tr th {\n",
       "        vertical-align: top;\n",
       "    }\n",
       "\n",
       "    .dataframe thead th {\n",
       "        text-align: right;\n",
       "    }\n",
       "</style>\n",
       "<table border=\"1\" class=\"dataframe\">\n",
       "  <thead>\n",
       "    <tr style=\"text-align: right;\">\n",
       "      <th></th>\n",
       "      <th>user_id</th>\n",
       "      <th>age_range</th>\n",
       "      <th>gender</th>\n",
       "      <th>merchant_id</th>\n",
       "      <th>label</th>\n",
       "    </tr>\n",
       "  </thead>\n",
       "  <tbody>\n",
       "    <tr>\n",
       "      <th>count</th>\n",
       "      <td>7.030723e+06</td>\n",
       "      <td>7.011343e+06</td>\n",
       "      <td>6.969011e+06</td>\n",
       "      <td>7.030723e+06</td>\n",
       "      <td>7.030723e+06</td>\n",
       "    </tr>\n",
       "    <tr>\n",
       "      <th>mean</th>\n",
       "      <td>2.120120e+05</td>\n",
       "      <td>3.106246e+00</td>\n",
       "      <td>3.036947e-01</td>\n",
       "      <td>2.455233e+03</td>\n",
       "      <td>-9.606277e-01</td>\n",
       "    </tr>\n",
       "    <tr>\n",
       "      <th>std</th>\n",
       "      <td>1.223200e+05</td>\n",
       "      <td>1.914345e+00</td>\n",
       "      <td>5.319517e-01</td>\n",
       "      <td>1.456245e+03</td>\n",
       "      <td>2.058154e-01</td>\n",
       "    </tr>\n",
       "    <tr>\n",
       "      <th>min</th>\n",
       "      <td>1.000000e+00</td>\n",
       "      <td>0.000000e+00</td>\n",
       "      <td>0.000000e+00</td>\n",
       "      <td>1.000000e+00</td>\n",
       "      <td>-1.000000e+00</td>\n",
       "    </tr>\n",
       "    <tr>\n",
       "      <th>25%</th>\n",
       "      <td>1.055770e+05</td>\n",
       "      <td>2.000000e+00</td>\n",
       "      <td>0.000000e+00</td>\n",
       "      <td>1.176000e+03</td>\n",
       "      <td>-1.000000e+00</td>\n",
       "    </tr>\n",
       "    <tr>\n",
       "      <th>50%</th>\n",
       "      <td>2.126810e+05</td>\n",
       "      <td>3.000000e+00</td>\n",
       "      <td>0.000000e+00</td>\n",
       "      <td>2.404000e+03</td>\n",
       "      <td>-1.000000e+00</td>\n",
       "    </tr>\n",
       "    <tr>\n",
       "      <th>75%</th>\n",
       "      <td>3.175440e+05</td>\n",
       "      <td>4.000000e+00</td>\n",
       "      <td>1.000000e+00</td>\n",
       "      <td>3.743000e+03</td>\n",
       "      <td>-1.000000e+00</td>\n",
       "    </tr>\n",
       "    <tr>\n",
       "      <th>max</th>\n",
       "      <td>4.241700e+05</td>\n",
       "      <td>8.000000e+00</td>\n",
       "      <td>2.000000e+00</td>\n",
       "      <td>4.995000e+03</td>\n",
       "      <td>1.000000e+00</td>\n",
       "    </tr>\n",
       "  </tbody>\n",
       "</table>\n",
       "</div>"
      ],
      "text/plain": [
       "            user_id     age_range        gender   merchant_id         label\n",
       "count  7.030723e+06  7.011343e+06  6.969011e+06  7.030723e+06  7.030723e+06\n",
       "mean   2.120120e+05  3.106246e+00  3.036947e-01  2.455233e+03 -9.606277e-01\n",
       "std    1.223200e+05  1.914345e+00  5.319517e-01  1.456245e+03  2.058154e-01\n",
       "min    1.000000e+00  0.000000e+00  0.000000e+00  1.000000e+00 -1.000000e+00\n",
       "25%    1.055770e+05  2.000000e+00  0.000000e+00  1.176000e+03 -1.000000e+00\n",
       "50%    2.126810e+05  3.000000e+00  0.000000e+00  2.404000e+03 -1.000000e+00\n",
       "75%    3.175440e+05  4.000000e+00  1.000000e+00  3.743000e+03 -1.000000e+00\n",
       "max    4.241700e+05  8.000000e+00  2.000000e+00  4.995000e+03  1.000000e+00"
      ]
     },
     "execution_count": 43,
     "metadata": {},
     "output_type": "execute_result"
    }
   ],
   "source": [
    "# Ver las primeras filas y resumen estadístico\n",
    "dataTrain.describe()"
   ]
  },
  {
   "cell_type": "code",
   "execution_count": 44,
   "metadata": {},
   "outputs": [
    {
     "name": "stdout",
     "output_type": "stream",
     "text": [
      "Valores faltantes por columna:\n",
      "user_id             0\n",
      "age_range       19380\n",
      "gender          61712\n",
      "merchant_id         0\n",
      "label               0\n",
      "activity_log     2975\n",
      "dtype: int64\n",
      "Duplicados en el dataset: 0\n"
     ]
    }
   ],
   "source": [
    "# Revisar si hay valores faltantes\n",
    "print(\"Valores faltantes por columna:\")\n",
    "print(dataTrain.isnull().sum())\n",
    "\n",
    "# Eliminar filas con valores faltantes (si es necesario)\n",
    "dataTrain_clean = dataTrain.dropna()\n",
    "\n",
    "# Revisar duplicados\n",
    "print(f\"Duplicados en el dataset: {dataTrain.duplicated().sum()}\")\n",
    "\n",
    "# Eliminar filas duplicadas\n",
    "dataTrain_clean = dataTrain.drop_duplicates()\n"
   ]
  },
  {
   "cell_type": "code",
   "execution_count": null,
   "metadata": {},
   "outputs": [],
   "source": [
    "# Función para procesar cada fila de activity_log\n",
    "def process_activity_log(row):\n",
    "    row = str(row)\n",
    "    # Separar las interacciones por '#'\n",
    "    interactions = row.split('#')\n",
    "    \n",
    "    # Listas para almacenar los valores de las cinco columnas\n",
    "    item_ids = []\n",
    "    category_ids = []\n",
    "    brand_ids = []\n",
    "    time_stamps = []\n",
    "    action_types = []\n",
    "    \n",
    "    # Procesar cada interacción\n",
    "    for interaction in interactions:\n",
    "        # Separar por ':'\n",
    "        values = interaction.split(':')\n",
    "        if len(values) == 5:\n",
    "            item_ids.append(values[0])\n",
    "            category_ids.append(values[1])\n",
    "            brand_ids.append(values[2])\n",
    "            time_stamps.append(values[3])\n",
    "            action_types.append(values[4])\n",
    "    \n",
    "    # Devolver los valores separados por comas\n",
    "    return pd.Series({\n",
    "        'item_id': ','.join(item_ids),\n",
    "        'category_id': ','.join(category_ids),\n",
    "        'brand_id': ','.join(brand_ids),\n",
    "        'time_stamp': ','.join(time_stamps),\n",
    "        'action_type': ','.join(action_types)\n",
    "    })\n",
    "\n",
    "# Aplicar la función a la columna 'activity_log'\n",
    "processed_data = dataTrain_clean['activity_log'].apply(process_activity_log)\n",
    "\n",
    "# Concatenar los resultados con el DataFrame original\n",
    "dataTrain_activity_clean = pd.concat([dataTrain_clean, processed_data], axis=1)\n",
    "\n",
    "# Mostrar las primeras filas del DataFrame resultante\n",
    "dataTrain_activity_clean.head()\n"
   ]
  },
  {
   "cell_type": "code",
   "execution_count": 11,
   "metadata": {},
   "outputs": [
    {
     "data": {
      "image/png": "[encoded data removed]",
      "text/plain": [
       "<Figure size 600x400 with 1 Axes>"
      ]
     },
     "metadata": {},
     "output_type": "display_data"
    }
   ],
   "source": [
    "# Distribución de la variable label\n",
    "plt.figure(figsize=(6,4))\n",
    "sns.countplot(x='label', data=dataTrain)\n",
    "plt.title('Distribución de la variable label')\n",
    "plt.show()\n"
   ]
  },
  {
   "cell_type": "code",
   "execution_count": 12,
   "metadata": {},
   "outputs": [
    {
     "data": {
      "image/png": "[encoded data removed]",
      "text/plain": [
       "<Figure size 600x400 with 1 Axes>"
      ]
     },
     "metadata": {},
     "output_type": "display_data"
    }
   ],
   "source": [
    "# Distribución de la edad\n",
    "plt.figure(figsize=(6,4))\n",
    "sns.countplot(x='age_range', data=dataTrain)\n",
    "plt.title('Distribución de rango de edad')\n",
    "plt.show()\n"
   ]
  },
  {
   "cell_type": "code",
   "execution_count": 13,
   "metadata": {},
   "outputs": [
    {
     "data": {
      "image/png": "[encoded data removed]",
      "text/plain": [
       "<Figure size 600x400 with 1 Axes>"
      ]
     },
     "metadata": {},
     "output_type": "display_data"
    }
   ],
   "source": [
    "# Relación entre género y label\n",
    "plt.figure(figsize=(6,4))\n",
    "sns.countplot(x='gender', hue='label', data=dataTrain)\n",
    "plt.title('Relación entre género y label')\n",
    "plt.show()\n"
   ]
  },
  {
   "cell_type": "code",
   "execution_count": 14,
   "metadata": {},
   "outputs": [
    {
     "data": {
      "image/png": "[encoded data removed]",
      "text/plain": [
       "<Figure size 1000x600 with 1 Axes>"
      ]
     },
     "metadata": {},
     "output_type": "display_data"
    }
   ],
   "source": [
    "# Ver la cantidad de compradores recurrentes por comerciante\n",
    "plt.figure(figsize=(10,6))\n",
    "top_merchants = dataTrain['merchant_id'].value_counts().nlargest(10).index\n",
    "sns.countplot(x='merchant_id', hue='label', data=dataTrain[dataTrain['merchant_id'].isin(top_merchants)])\n",
    "plt.title('Compradores recurrentes por comerciante (Top 10)')\n",
    "plt.show()\n"
   ]
  },
  {
   "cell_type": "code",
   "execution_count": null,
   "metadata": {},
   "outputs": [],
   "source": [
    "# Visualizar las actividades de un usuario específico\n",
    "user_sample = dataTrain[dataTrain['user_id'] == 34176]  # Reemplaza con un user_id de interés\n",
    "\n",
    "# Muestra las actividades de este usuario a lo largo del tiempo (si hay timestamps en activity_log)\n",
    "plt.figure(figsize=(10,6))\n",
    "plt.plot(user_sample.index, user_sample['activity_count'], marker='o', linestyle='--')\n",
    "plt.title(f'Actividad del usuario {34176} a lo largo del tiempo')\n",
    "plt.xlabel('Registro')\n",
    "plt.ylabel('Cantidad de Actividades')\n",
    "plt.show()\n"
   ]
  }
 ],
 "metadata": {
  "kernelspec": {
   "display_name": "venv",
   "language": "python",
   "name": "python3"
  },
  "language_info": {
   "codemirror_mode": {
    "name": "ipython",
    "version": 3
   },
   "file_extension": ".py",
   "mimetype": "text/x-python",
   "name": "python",
   "nbconvert_exporter": "python",
   "pygments_lexer": "ipython3",
   "version": "3.11.9"
  }
 },
 "nbformat": 4,
 "nbformat_minor": 2
}
